{
 "cells": [
  {
   "cell_type": "markdown",
   "metadata": {},
   "source": [
    "### Import Necessary Modules"
   ]
  },
  {
   "cell_type": "code",
   "execution_count": 1,
   "metadata": {},
   "outputs": [],
   "source": [
    "import numpy as np\n",
    "from tensorflow.keras.datasets import fashion_mnist\n",
    "from tensorflow.keras.utils import to_categorical\n",
    "from tensorflow.keras.optimizers import Adam\n",
    "from matplotlib import pyplot as plt"
   ]
  },
  {
   "cell_type": "markdown",
   "metadata": {},
   "source": [
    "### Load Data"
   ]
  },
  {
   "cell_type": "code",
   "execution_count": null,
   "metadata": {},
   "outputs": [],
   "source": [
    "(trainX, trainY), (testX, testY) = fashion_mnist.load_data()\n",
    "\n",
    "print(\"Training Data Shape:\", trainX.shape)\n",
    "print(\"Test Data Shape:\", testX.shape)"
   ]
  },
  {
   "cell_type": "markdown",
   "metadata": {},
   "source": [
    "### Preprocess Data"
   ]
  },
  {
   "cell_type": "code",
   "execution_count": 3,
   "metadata": {},
   "outputs": [],
   "source": [
    "trainX = trainX.astype('float32') / 255.0\n",
    "testX = testX.astype('float32') / 255.0\n",
    "\n",
    "trainY = to_categorical(trainY, num_classes=10)\n",
    "testY = to_categorical(testY, num_classes=10)\n",
    "\n",
    "trainX_cnn = np.expand_dims(trainX, axis=-1)\n",
    "testX_cnn = np.expand_dims(testX, axis=-1)\n",
    "\n",
    "trainX_fcnn = trainX.reshape(trainX.shape[0], -1)\n",
    "testX_fcnn = testX.reshape(testX.shape[0], -1)"
   ]
  },
  {
   "cell_type": "markdown",
   "metadata": {},
   "source": [
    "### Train & Test FCNN (Define FCNN)"
   ]
  },
  {
   "cell_type": "code",
   "execution_count": null,
   "metadata": {},
   "outputs": [],
   "source": [
    "def build_fcnn(input_shape, num_classes):\n",
    "    from tensorflow.keras.layers import Input, Dense\n",
    "    from tensorflow.keras.models import Model\n",
    "\n",
    "    inputs = Input(shape=input_shape, name='InputLayer')\n",
    "    x = Dense(128, activation='relu', name='DenseLayer1')(inputs)\n",
    "    x = Dense(64, activation='relu', name='DenseLayer2')(x)\n",
    "    outputs = Dense(num_classes, activation='softmax', name='OutputLayer')(x)\n",
    "    model = Model(inputs, outputs, name='FullyConnectedNN')\n",
    "    model.summary()\n",
    "    return model\n",
    "\n",
    "fcnn = build_fcnn((784,), 10)"
   ]
  },
  {
   "cell_type": "markdown",
   "metadata": {},
   "source": [
    "### Compile & Train"
   ]
  },
  {
   "cell_type": "code",
   "execution_count": null,
   "metadata": {},
   "outputs": [],
   "source": [
    "fcnn.compile(optimizer=Adam(), loss='categorical_crossentropy', metrics=['accuracy'])\n",
    "\n",
    "history_fcnn = fcnn.fit(trainX_fcnn, trainY, validation_split=0.1, epochs=10, batch_size=32)"
   ]
  },
  {
   "cell_type": "markdown",
   "metadata": {},
   "source": [
    "### Test FCNN"
   ]
  },
  {
   "cell_type": "code",
   "execution_count": null,
   "metadata": {},
   "outputs": [],
   "source": [
    "test_loss_fcnn, test_acc_fcnn = fcnn.evaluate(testX_fcnn, testY)\n",
    "print(f\"FCNN Test Accuracy: {test_acc_fcnn}\")"
   ]
  },
  {
   "cell_type": "markdown",
   "metadata": {},
   "source": [
    "### Train & Test CNN (Define CNN)"
   ]
  },
  {
   "cell_type": "code",
   "execution_count": null,
   "metadata": {},
   "outputs": [],
   "source": [
    "def build_cnn(input_shape, num_classes):\n",
    "    from tensorflow.keras.layers import Conv2D, MaxPooling2D, Flatten, Dense, Input\n",
    "    from tensorflow.keras.models import Model\n",
    "\n",
    "    inputs = Input(shape=input_shape, name='InputLayer')\n",
    "    x = Conv2D(32, kernel_size=(3, 3), activation='relu', name='ConvLayer1')(inputs)\n",
    "    x = MaxPooling2D(pool_size=(2, 2), name='MaxPool1')(x)\n",
    "    x = Conv2D(64, kernel_size=(3, 3), activation='relu', name='ConvLayer2')(x)\n",
    "    x = MaxPooling2D(pool_size=(2, 2), name='MaxPool2')(x)\n",
    "    x = Flatten()(x)\n",
    "    x = Dense(128, activation='relu', name='DenseLayer1')(x)\n",
    "    outputs = Dense(num_classes, activation='softmax', name='OutputLayer')(x)\n",
    "    model = Model(inputs, outputs, name='ConvolutionalNN')\n",
    "    model.summary()\n",
    "    return model\n",
    "\n",
    "cnn = build_cnn((28, 28, 1), 10)"
   ]
  },
  {
   "cell_type": "markdown",
   "metadata": {},
   "source": [
    "### Compile & Train CNN"
   ]
  },
  {
   "cell_type": "code",
   "execution_count": null,
   "metadata": {},
   "outputs": [],
   "source": [
    "cnn.compile(optimizer=Adam(), loss='categorical_crossentropy', metrics=['accuracy'])\n",
    "\n",
    "history_cnn = cnn.fit(trainX_cnn, trainY, validation_split=0.1, epochs=10, batch_size=32)"
   ]
  },
  {
   "cell_type": "markdown",
   "metadata": {},
   "source": [
    "### Test CNN"
   ]
  },
  {
   "cell_type": "code",
   "execution_count": null,
   "metadata": {},
   "outputs": [],
   "source": [
    "test_loss_cnn, test_acc_cnn = cnn.evaluate(testX_cnn, testY)\n",
    "print(f\"CNN Test Accuracy: {test_acc_cnn}\")"
   ]
  },
  {
   "cell_type": "markdown",
   "metadata": {},
   "source": [
    "### Compare and Discuss Results (Plot Training Accuracy)"
   ]
  },
  {
   "cell_type": "code",
   "execution_count": null,
   "metadata": {},
   "outputs": [],
   "source": [
    "plt.figure(figsize=(10, 5))\n",
    "plt.plot(history_fcnn.history['accuracy'], label='FCNN Training Accuracy')\n",
    "plt.plot(history_fcnn.history['val_accuracy'], label='FCNN Validation Accuracy')\n",
    "plt.plot(history_cnn.history['accuracy'], label='CNN Training Accuracy')\n",
    "plt.plot(history_cnn.history['val_accuracy'], label='CNN Validation Accuracy')\n",
    "plt.title('Training and Validation Accuracy')\n",
    "plt.xlabel('Epochs')\n",
    "plt.ylabel('Accuracy')\n",
    "plt.legend()\n",
    "plt.show()"
   ]
  }
 ],
 "metadata": {
  "kernelspec": {
   "display_name": "Python 3",
   "language": "python",
   "name": "python3"
  },
  "language_info": {
   "codemirror_mode": {
    "name": "ipython",
    "version": 3
   },
   "file_extension": ".py",
   "mimetype": "text/x-python",
   "name": "python",
   "nbconvert_exporter": "python",
   "pygments_lexer": "ipython3",
   "version": "3.9.6"
  }
 },
 "nbformat": 4,
 "nbformat_minor": 2
}
